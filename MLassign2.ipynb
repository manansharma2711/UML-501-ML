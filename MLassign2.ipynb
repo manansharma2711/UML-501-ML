{
  "nbformat": 4,
  "nbformat_minor": 0,
  "metadata": {
    "colab": {
      "provenance": [],
      "authorship_tag": "ABX9TyOwoAUK8pNlbQS9zt522bad",
      "include_colab_link": true
    },
    "kernelspec": {
      "name": "python3",
      "display_name": "Python 3"
    },
    "language_info": {
      "name": "python"
    }
  },
  "cells": [
    {
      "cell_type": "markdown",
      "metadata": {
        "id": "view-in-github",
        "colab_type": "text"
      },
      "source": [
        "<a href=\"https://colab.research.google.com/github/manansharma2711/UML-501-ML/blob/main/MLassign2.ipynb\" target=\"_parent\"><img src=\"https://colab.research.google.com/assets/colab-badge.svg\" alt=\"Open In Colab\"/></a>"
      ]
    },
    {
      "cell_type": "markdown",
      "source": [
        "Part-1 Based on Feature Selection, Cleaning, and Preprocessing to Construct an Input from Data Source (a) Examine the values of each attribute and Select a set of attributes only that would affect to predict future bike buyers to create your input for data mining algorithms. Remove all the unnecessary attributes. (Select features just by analysis).\n",
        "\n",
        "(b) Create a new Data Frame with the selected attributes only.\n",
        "\n",
        "(c) Determine a Data value type (Discrete, or Continuous, then Nominal, Ordinal, Interval, Ratio) of each attribute in your selection to identify preprocessing tasks to create input for your data mining."
      ],
      "metadata": {
        "id": "OaRS1cu4M5jF"
      }
    },
    {
      "cell_type": "code",
      "execution_count": 1,
      "metadata": {
        "colab": {
          "base_uri": "https://localhost:8080/"
        },
        "id": "hv6LrnyFMjP4",
        "outputId": "762b2e33-02df-41dc-8e92-0cdf40be7e08"
      },
      "outputs": [
        {
          "output_type": "stream",
          "name": "stdout",
          "text": [
            "Using Colab cache for faster access to the 'microsoft-adventure-works-cycles-customer-data' dataset.\n",
            "  Gender MaritalStatus  Age        Education  HomeOwnerFlag  NumberCarsOwned  \\\n",
            "0      M             M   38        Bachelors              1                3   \n",
            "1      M             M   53  Partial College              1                2   \n",
            "2      F             S   40        Bachelors              0                3   \n",
            "3      M             M   48  Partial College              1                2   \n",
            "4      M             S   50  Partial College              1                1   \n",
            "\n",
            "   NumberChildrenAtHome  TotalChildren  YearlyIncome  BikeBuyer  \n",
            "0                     0              1         81916          1  \n",
            "1                     1              2         81076          1  \n",
            "2                     0              0         86387          1  \n",
            "3                     1              2         61481          1  \n",
            "4                     0              0         51804          1  \n"
          ]
        }
      ],
      "source": [
        "import pandas as pd\n",
        "from datetime import datetime\n",
        "from sklearn.preprocessing import MaxAbsScaler\n",
        "import kagglehub\n",
        "import os\n",
        "\n",
        "# Download latest version\n",
        "path = kagglehub.dataset_download(\"jahias/microsoft-adventure-works-cycles-customer-data\")\n",
        "\n",
        "# Construct the full paths to the CSV files\n",
        "customers_file_path = os.path.join(path, 'AWCustomers.csv')\n",
        "sales_file_path = os.path.join(path, 'AWSales.csv')\n",
        "\n",
        "# Read the CSV files using the full paths\n",
        "df = pd.read_csv(customers_file_path)\n",
        "sales = pd.read_csv(sales_file_path)\n",
        "\n",
        "merged_df=pd.merge(df,sales,on='CustomerID')\n",
        "# print(merged_df.head())\n",
        "merged_df['BirthDate']=pd.to_datetime(merged_df['BirthDate'],errors='coerce') ## converts the birthdate to the format DD-MM-YYY HH:MM:SS\n",
        "merged_df['Age']=datetime.now().year-merged_df['BirthDate'].dt.year ## Calculates age by extracting age from current date and year from birthdate and subtracting them both\n",
        "new_columns=[\n",
        "    'Gender',\n",
        "    'MaritalStatus',\n",
        "    'Age',\n",
        "    'Education',\n",
        "    'HomeOwnerFlag',\n",
        "    'NumberCarsOwned',\n",
        "    'NumberChildrenAtHome',\n",
        "    'TotalChildren',\n",
        "    'YearlyIncome',\n",
        "    'BikeBuyer'\n",
        "]\n",
        "\n",
        "new_df=merged_df[new_columns]\n",
        "print(new_df.head())"
      ]
    },
    {
      "cell_type": "markdown",
      "source": [
        "Datatype Gender - Categorical , Nominal(Binary) - contains only 2 entries Male or Female Martial Status - Categorical , Nominal(Binary) - contains only 2 entries Married or Unmarried Age - Numerical , Ratio - Has a true Zero point Education - Categorical , Ordinal Home Owner Flag - Categorical , Nominal(Binary)- Either 0 or 1 Number of Cars Owned - Numerical , Discrete Number of Children at Home -Numerical , Discrete Total Children -Numerical , Discrete Yearly Income - Numerical , Ratio Bike Buyer - Categorical , Nominal(Binary) Part-2 Data Preprocessing and Transformation Depending on the data type of each attribute, transform each object from your preprocessed data. Use all the data rows (~= 18000 rows) with the selected features as input to apply all the tasks below, do not perform each task on the smaller data set that you got from your random sampling result.\n",
        "\n",
        "(a) Handling Null values\n",
        "\n",
        "(b) Normalization\n",
        "\n",
        "(c) Discretization (Binning) on Continuous attributes or Categorical Attributes with too many different values\n",
        "\n",
        "(d) Standardization/Normalization\n",
        "\n",
        "(e) Binarization (One Hot Encoding)"
      ],
      "metadata": {
        "id": "FQ5uTzBZNJzH"
      }
    },
    {
      "cell_type": "code",
      "source": [
        "## Dropping null values\n",
        "print(new_df.isnull().sum())\n",
        "new_df=new_df.dropna()\n",
        "\n",
        "## Normalisation\n",
        "cols=['Age','YearlyIncome','TotalChildren']\n",
        "scaler=MaxAbsScaler()\n",
        "scaled=scaler.fit_transform(new_df[cols])\n",
        "new_df[cols]=pd.DataFrame(scaled,columns=cols,index=new_df.index)\n",
        "\n",
        "##Discretization\n",
        "new_df['AgeGroup']=pd.cut(\n",
        "    new_df['Age'],\n",
        "    bins=[0,0.3,0.6,1],\n",
        "    labels=['Young','Middle-Aged','Senior']\n",
        ")\n",
        "\n",
        "# print(new_df['AgeGroup'].value_counts())\n",
        "\n",
        "##Standardisation\n",
        "from sklearn.preprocessing import StandardScaler\n",
        "col=['NumberCarsOwned','NumberChildrenAtHome']\n",
        "scaler2=StandardScaler()\n",
        "new_df[col]=scaler2.fit_transform(new_df[col])\n",
        "\n",
        "##Binarization\n",
        "final_df=pd.get_dummies(new_df,columns=['Gender','MaritalStatus','Education','AgeGroup'])\n",
        "print(final_df.head())"
      ],
      "metadata": {
        "colab": {
          "base_uri": "https://localhost:8080/"
        },
        "id": "DbB9R9IJNKhh",
        "outputId": "7daa313a-9dd6-41a8-a8e9-d6002a75b672"
      },
      "execution_count": 2,
      "outputs": [
        {
          "output_type": "stream",
          "name": "stdout",
          "text": [
            "Gender                  0\n",
            "MaritalStatus           0\n",
            "Age                     0\n",
            "Education               0\n",
            "HomeOwnerFlag           0\n",
            "NumberCarsOwned         0\n",
            "NumberChildrenAtHome    0\n",
            "TotalChildren           0\n",
            "YearlyIncome            0\n",
            "BikeBuyer               0\n",
            "dtype: int64\n",
            "        Age  HomeOwnerFlag  NumberCarsOwned  NumberChildrenAtHome  \\\n",
            "0  0.400000              1         1.892524             -0.594371   \n",
            "1  0.557895              1         0.798389              1.163279   \n",
            "2  0.421053              0         1.892524             -0.594371   \n",
            "3  0.505263              1         0.798389              1.163279   \n",
            "4  0.526316              1        -0.295746             -0.594371   \n",
            "\n",
            "   TotalChildren  YearlyIncome  BikeBuyer  Gender_F  Gender_M  \\\n",
            "0       0.333333      0.588837          1     False      True   \n",
            "1       0.666667      0.582798          1     False      True   \n",
            "2       0.000000      0.620975          1      True     False   \n",
            "3       0.666667      0.441944          1     False      True   \n",
            "4       0.000000      0.372383          1     False      True   \n",
            "\n",
            "   MaritalStatus_M  MaritalStatus_S  Education_Bachelors  \\\n",
            "0             True            False                 True   \n",
            "1             True            False                False   \n",
            "2            False             True                 True   \n",
            "3             True            False                False   \n",
            "4            False             True                False   \n",
            "\n",
            "   Education_Graduate Degree  Education_High School  \\\n",
            "0                      False                  False   \n",
            "1                      False                  False   \n",
            "2                      False                  False   \n",
            "3                      False                  False   \n",
            "4                      False                  False   \n",
            "\n",
            "   Education_Partial College  Education_Partial High School  AgeGroup_Young  \\\n",
            "0                      False                          False           False   \n",
            "1                       True                          False           False   \n",
            "2                      False                          False           False   \n",
            "3                       True                          False           False   \n",
            "4                       True                          False           False   \n",
            "\n",
            "   AgeGroup_Middle-Aged  AgeGroup_Senior  \n",
            "0                  True            False  \n",
            "1                  True            False  \n",
            "2                  True            False  \n",
            "3                  True            False  \n",
            "4                  True            False  \n"
          ]
        }
      ]
    },
    {
      "cell_type": "markdown",
      "source": [
        "Part-3"
      ],
      "metadata": {
        "id": "NSTTpzlvNXOW"
      }
    },
    {
      "cell_type": "code",
      "source": [
        "from sklearn.metrics.pairwise import cosine_similarity\n",
        "import numpy as np\n",
        "obj1=final_df.iloc[0]\n",
        "obj2=final_df.iloc[1]\n",
        "A=obj1.values\n",
        "B=obj2.values\n",
        "\n",
        "## Simple Matching Coefficient\n",
        "match=np.sum(A==B)\n",
        "size=len(A)\n",
        "smc=match/size\n",
        "print(smc)\n",
        "\n",
        "## Jaccard\n",
        "match=np.sum((A==1) & (B==1))\n",
        "denominator=np.sum((A==1) | (B==1))\n",
        "jaccard=match/denominator\n",
        "print(jaccard)\n",
        "\n",
        "##cosine\n",
        "cosine=cosine_similarity([A],[B])\n",
        "print(cosine)"
      ],
      "metadata": {
        "colab": {
          "base_uri": "https://localhost:8080/"
        },
        "id": "ouJGwktnNX8Q",
        "outputId": "662c74ba-cfa1-4c52-c32c-95bd6edf0d8e"
      },
      "execution_count": 3,
      "outputs": [
        {
          "output_type": "stream",
          "name": "stdout",
          "text": [
            "0.631578947368421\n",
            "0.7142857142857143\n",
            "[[0.67485062]]\n"
          ]
        }
      ]
    }
  ]
}